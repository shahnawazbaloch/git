{
 "cells": [
  {
   "cell_type": "code",
   "execution_count": 16,
   "metadata": {},
   "outputs": [
    {
     "name": "stdout",
     "output_type": "stream",
     "text": [
      "Input the radius of the circle : 0.5\n",
      "The area of the circle with radius 0.5 is: 0.7853981633974483\n"
     ]
    }
   ],
   "source": [
    "from math import pi\n",
    "r = float(input (\"Input the radius of the circle : \"))\n",
    "print (\"The area of the circle with radius \" + str(r) + \" is: \" + str(pi * r**2))\n"
   ]
  },
  {
   "cell_type": "markdown",
   "metadata": {},
   "source": [
    "## 2nd\n"
   ]
  },
  {
   "cell_type": "code",
   "execution_count": 3,
   "metadata": {},
   "outputs": [
    {
     "name": "stdout",
     "output_type": "stream",
     "text": [
      "Input a number: -1\n",
      "It is a negative number\n"
     ]
    }
   ],
   "source": [
    "num = float(input(\"Input a number: \"))\n",
    "if num > 0:\n",
    "    print(\"It is positive number\")\n",
    "elif num == 0:\n",
    "    print(\"It is Zero\")\n",
    "else:\n",
    "        print(\"It is a negative number\")"
   ]
  },
  {
   "cell_type": "code",
   "execution_count": 4,
   "metadata": {},
   "outputs": [
    {
     "name": "stdout",
     "output_type": "stream",
     "text": [
      "Input a number: 3\n",
      "It is positive number\n"
     ]
    }
   ],
   "source": [
    "num = float(input(\"Input a number: \"))\n",
    "if num > 0:\n",
    "    print(\"It is positive number\")\n",
    "elif num == 0:\n",
    "    print(\"It is Zero\")\n",
    "else:\n",
    "        print(\"It is a negative number\")"
   ]
  },
  {
   "cell_type": "code",
   "execution_count": 5,
   "metadata": {},
   "outputs": [
    {
     "name": "stdout",
     "output_type": "stream",
     "text": [
      "Input a number: 0\n",
      "It is Zero\n"
     ]
    }
   ],
   "source": [
    "num = float(input(\"Input a number: \"))\n",
    "if num > 0:\n",
    "    print(\"It is positive number\")\n",
    "elif num == 0:\n",
    "    print(\"It is Zero\")\n",
    "else:\n",
    "        print(\"It is a negative number\")"
   ]
  },
  {
   "cell_type": "markdown",
   "metadata": {},
   "source": [
    "# 3rd \n"
   ]
  },
  {
   "cell_type": "code",
   "execution_count": 12,
   "metadata": {},
   "outputs": [
    {
     "name": "stdout",
     "output_type": "stream",
     "text": [
      "Enter the Numenator4\n",
      "Enter the Denominator2\n"
     ]
    }
   ],
   "source": [
    "numernator = int(input('Enter the Numenator'))\n",
    "denominator = int(input('Enter the Denominator'))"
   ]
  },
  {
   "cell_type": "code",
   "execution_count": 13,
   "metadata": {},
   "outputs": [
    {
     "name": "stdout",
     "output_type": "stream",
     "text": [
      "Numerber 4 is completely divisible by 2\n"
     ]
    }
   ],
   "source": [
    "if numernator % denominator == 0:\n",
    "    print('Numerber', numernator, 'is completely divisible by', denominator )\n",
    "else:\n",
    "    print('Numerber', numernator, 'is not completely divisible by', denominator )"
   ]
  },
  {
   "cell_type": "code",
   "execution_count": 14,
   "metadata": {},
   "outputs": [
    {
     "name": "stdout",
     "output_type": "stream",
     "text": [
      "Enter the Numenator7\n",
      "Enter the Denominator4\n"
     ]
    }
   ],
   "source": [
    "numernator = int(input('Enter the Numenator'))\n",
    "denominator = int(input('Enter the Denominator'))"
   ]
  },
  {
   "cell_type": "code",
   "execution_count": 15,
   "metadata": {},
   "outputs": [
    {
     "name": "stdout",
     "output_type": "stream",
     "text": [
      "Numerber 7 is not completely divisible by 4\n"
     ]
    }
   ],
   "source": [
    "if numernator % denominator == 0:\n",
    "    print('Numerber', numernator, 'is completely divisible by', denominator )\n",
    "else:\n",
    "    print('Numerber', numernator, 'is not completely divisible by', denominator )"
   ]
  },
  {
   "cell_type": "markdown",
   "metadata": {},
   "source": [
    "# 4th\n",
    "\n"
   ]
  },
  {
   "cell_type": "code",
   "execution_count": 17,
   "metadata": {},
   "outputs": [
    {
     "name": "stdout",
     "output_type": "stream",
     "text": [
      "Enter the Radius of Sphere : 1\n"
     ]
    }
   ],
   "source": [
    "pi = 22/7\n",
    "radius_of_sphere = float(input('Enter the Radius of Sphere : '))\n",
    "\n"
   ]
  },
  {
   "cell_type": "code",
   "execution_count": 18,
   "metadata": {},
   "outputs": [
    {
     "name": "stdout",
     "output_type": "stream",
     "text": [
      "The Volume of sphere is 4.19\n"
     ]
    }
   ],
   "source": [
    "volume_of_sphere = 4/3 * pi * radius_of_sphere**3\n",
    "print(\"The Volume of sphere is\", round(volume_of_sphere, 2))\n",
    "\n"
   ]
  },
  {
   "cell_type": "markdown",
   "metadata": {},
   "source": [
    "# 5\n"
   ]
  },
  {
   "cell_type": "code",
   "execution_count": 19,
   "metadata": {},
   "outputs": [
    {
     "name": "stdout",
     "output_type": "stream",
     "text": [
      "Enter your string here : hi\n"
     ]
    }
   ],
   "source": [
    "string = input('Enter your string here : ')"
   ]
  },
  {
   "cell_type": "code",
   "execution_count": 20,
   "metadata": {},
   "outputs": [
    {
     "name": "stdout",
     "output_type": "stream",
     "text": [
      "Enter how many time do you want to copy : 4\n"
     ]
    }
   ],
   "source": [
    "copies = int(input(\"Enter how many time do you want to copy : \"))"
   ]
  },
  {
   "cell_type": "code",
   "execution_count": 21,
   "metadata": {},
   "outputs": [
    {
     "name": "stdout",
     "output_type": "stream",
     "text": [
      "hihihihi\n"
     ]
    }
   ],
   "source": [
    "result = string *  copies\n",
    "print(result)"
   ]
  },
  {
   "cell_type": "markdown",
   "metadata": {},
   "source": [
    "# 6th\n"
   ]
  },
  {
   "cell_type": "code",
   "execution_count": 22,
   "metadata": {},
   "outputs": [
    {
     "name": "stdout",
     "output_type": "stream",
     "text": [
      "Enter your number here : 4\n"
     ]
    }
   ],
   "source": [
    "number = int(input('Enter your number here : '))"
   ]
  },
  {
   "cell_type": "code",
   "execution_count": 23,
   "metadata": {},
   "outputs": [
    {
     "name": "stdout",
     "output_type": "stream",
     "text": [
      "The 4 is Even Number.\n"
     ]
    }
   ],
   "source": [
    "if (number % 2 == 0):\n",
    "    print('The ' + str(number) + ' is Even Number.')\n",
    "else:\n",
    "    print('The ' + str(number) + ' is Odd Number.')"
   ]
  },
  {
   "cell_type": "code",
   "execution_count": 24,
   "metadata": {},
   "outputs": [
    {
     "name": "stdout",
     "output_type": "stream",
     "text": [
      "Enter your number here : 9\n"
     ]
    }
   ],
   "source": [
    "number = int(input('Enter your number here : '))"
   ]
  },
  {
   "cell_type": "code",
   "execution_count": 25,
   "metadata": {},
   "outputs": [
    {
     "name": "stdout",
     "output_type": "stream",
     "text": [
      "The 9 is Odd Number.\n"
     ]
    }
   ],
   "source": [
    "if (number % 2 == 0):\n",
    "    print('The ' + str(number) + ' is Even Number.')\n",
    "else:\n",
    "    print('The ' + str(number) + ' is Odd Number.')"
   ]
  },
  {
   "cell_type": "markdown",
   "metadata": {},
   "source": [
    "# 7th\n"
   ]
  },
  {
   "cell_type": "code",
   "execution_count": 26,
   "metadata": {},
   "outputs": [
    {
     "name": "stdout",
     "output_type": "stream",
     "text": [
      "A,E,I,O,U\n"
     ]
    }
   ],
   "source": [
    "vowels = ('a,e,i,o,u').title()\n",
    "print(vowels)"
   ]
  },
  {
   "cell_type": "code",
   "execution_count": 27,
   "metadata": {},
   "outputs": [
    {
     "name": "stdout",
     "output_type": "stream",
     "text": [
      "Enter the word to check : a\n",
      "Word A is a Vowel\n"
     ]
    }
   ],
   "source": [
    "user_input = input('Enter the word to check : ').title()\n",
    "for vowels in vowels:\n",
    "    if user_input == vowels:\n",
    "        print('Word ' + user_input + ' is a Vowel')\n",
    "        break\n",
    "    else:\n",
    "        print('Word ' + user_input + ' is not a Vowel')\n",
    "        break"
   ]
  },
  {
   "cell_type": "code",
   "execution_count": 28,
   "metadata": {},
   "outputs": [
    {
     "name": "stdout",
     "output_type": "stream",
     "text": [
      "Enter the word to check : y\n",
      "Word Y is not a Vowel\n"
     ]
    }
   ],
   "source": [
    "user_input = input('Enter the word to check : ').title()\n",
    "for vowels in vowels:\n",
    "    if user_input == vowels:\n",
    "        print('Word ' + user_input + ' is a Vowel')\n",
    "        break\n",
    "    else:\n",
    "        print('Word ' + user_input + ' is not a Vowel')\n",
    "        break"
   ]
  },
  {
   "cell_type": "code",
   "execution_count": 29,
   "metadata": {},
   "outputs": [
    {
     "name": "stdout",
     "output_type": "stream",
     "text": [
      "Enter the word to check : e\n",
      "Word E is not a Vowel\n"
     ]
    }
   ],
   "source": [
    "user_input = input('Enter the word to check : ').title()\n",
    "for vowels in vowels:\n",
    "    if user_input == vowels:\n",
    "        print('Word ' + user_input + ' is a Vowel')\n",
    "        break\n",
    "    else:\n",
    "        print('Word ' + user_input + ' is not a Vowel')\n",
    "        break"
   ]
  },
  {
   "cell_type": "markdown",
   "metadata": {},
   "source": [
    "# 8\n"
   ]
  },
  {
   "cell_type": "code",
   "execution_count": 30,
   "metadata": {},
   "outputs": [
    {
     "name": "stdout",
     "output_type": "stream",
     "text": [
      "Enter the Height of the Triangle : 55\n",
      "Enter the Base of the Triangle : 23\n"
     ]
    }
   ],
   "source": [
    "height = float(input(\"Enter the Height of the Triangle : \"))\n",
    "base = float(input(\"Enter the Base of the Triangle : \"))"
   ]
  },
  {
   "cell_type": "code",
   "execution_count": 31,
   "metadata": {},
   "outputs": [
    {
     "name": "stdout",
     "output_type": "stream",
     "text": [
      "The Area of the Triangle is : 632.5\n"
     ]
    }
   ],
   "source": [
    "area_of_triangle = 1/2 * height * base\n",
    "print('The Area of the Triangle is : ' + str(area_of_triangle))"
   ]
  },
  {
   "cell_type": "markdown",
   "metadata": {},
   "source": [
    "# 9th\n"
   ]
  },
  {
   "cell_type": "code",
   "execution_count": 32,
   "metadata": {},
   "outputs": [
    {
     "name": "stdout",
     "output_type": "stream",
     "text": [
      "Enter your Principle Amount : 1000\n"
     ]
    }
   ],
   "source": [
    "principle_amount = int(input(\"Enter your Principle Amount : \"))"
   ]
  },
  {
   "cell_type": "code",
   "execution_count": 33,
   "metadata": {},
   "outputs": [
    {
     "name": "stdout",
     "output_type": "stream",
     "text": [
      "Enter your Rate of Interest : 0.1\n"
     ]
    }
   ],
   "source": [
    "rate_of_interest = float(input(\"Enter your Rate of Interest : \"))"
   ]
  },
  {
   "cell_type": "code",
   "execution_count": 34,
   "metadata": {},
   "outputs": [
    {
     "name": "stdout",
     "output_type": "stream",
     "text": [
      "Enter your Number of year(s) : 5\n"
     ]
    }
   ],
   "source": [
    "num_of_years = int(input(\"Enter your Number of year(s) : \"))"
   ]
  },
  {
   "cell_type": "code",
   "execution_count": 35,
   "metadata": {},
   "outputs": [
    {
     "name": "stdout",
     "output_type": "stream",
     "text": [
      "After the mentioned time your amount with intrest will be  1610.51\n"
     ]
    }
   ],
   "source": [
    "principle_amount_after = principle_amount * (1 + rate_of_interest) ** num_of_years\n",
    "print(\"After the mentioned time your amount with intrest will be \", round(principle_amount_after, 2))"
   ]
  },
  {
   "cell_type": "markdown",
   "metadata": {},
   "source": [
    "# 10\n"
   ]
  },
  {
   "cell_type": "code",
   "execution_count": 36,
   "metadata": {},
   "outputs": [
    {
     "name": "stdout",
     "output_type": "stream",
     "text": [
      "Enter Co-ordinate for x1: 2\n",
      "Enter Co-ordinate for x2: 4\n",
      "Enter Co-ordinate for y1: 4\n",
      "Enter Co-ordinate for y2: 4\n"
     ]
    }
   ],
   "source": [
    "x1 = int(input(\"Enter Co-ordinate for x1: \"))\n",
    "x2 = int(input(\"Enter Co-ordinate for x2: \"))\n",
    "y1 = int(input(\"Enter Co-ordinate for y1: \"))\n",
    "y2 = int(input(\"Enter Co-ordinate for y2: \"))"
   ]
  },
  {
   "cell_type": "code",
   "execution_count": 37,
   "metadata": {},
   "outputs": [
    {
     "name": "stdout",
     "output_type": "stream",
     "text": [
      "Distance between two points is  2\n"
     ]
    }
   ],
   "source": [
    "import math\n",
    "euclidean_distance = int(math.sqrt((x2-x1)*(x2-x1))+((y2-y1)*(y2-y1)))\n",
    "print(\"Distance between two points is \",euclidean_distance)"
   ]
  },
  {
   "cell_type": "markdown",
   "metadata": {},
   "source": [
    "# 11"
   ]
  },
  {
   "cell_type": "code",
   "execution_count": 38,
   "metadata": {},
   "outputs": [
    {
     "name": "stdout",
     "output_type": "stream",
     "text": [
      "Enter height in Feets: 5\n",
      "There are 152.4 Cm in 5.0 ft.\n"
     ]
    }
   ],
   "source": [
    "cm = 1\n",
    "feet = 30.48 * cm\n",
    "height = float(input(\"Enter height in Feets: \"))\n",
    "result = feet * height\n",
    "print('There are ' + str(result) + ' Cm in ' + str(height) + ' ft.')\n"
   ]
  },
  {
   "cell_type": "markdown",
   "metadata": {},
   "source": [
    "# 12"
   ]
  },
  {
   "cell_type": "code",
   "execution_count": 39,
   "metadata": {},
   "outputs": [
    {
     "name": "stdout",
     "output_type": "stream",
     "text": [
      "Enter your Height in Cm here : 180\n",
      "Enter your weightt in Kg here : 75\n"
     ]
    }
   ],
   "source": [
    "height_in_cm = float(input(\"Enter your Height in Cm here : \"))\n",
    "weight = float(input(\"Enter your weightt in Kg here : \"))\n",
    "height_in_m = height_in_cm / 100\n",
    "bmi = weight/height_in_m**2"
   ]
  },
  {
   "cell_type": "code",
   "execution_count": 40,
   "metadata": {},
   "outputs": [
    {
     "name": "stdout",
     "output_type": "stream",
     "text": [
      "Your BMI is  23.15\n"
     ]
    }
   ],
   "source": [
    "print('Your BMI is ',round(bmi,2))"
   ]
  },
  {
   "cell_type": "markdown",
   "metadata": {},
   "source": [
    "# 13"
   ]
  },
  {
   "cell_type": "code",
   "execution_count": 41,
   "metadata": {},
   "outputs": [
    {
     "name": "stdout",
     "output_type": "stream",
     "text": [
      "Enter the Value of n : 5\n"
     ]
    }
   ],
   "source": [
    "\n",
    "\n",
    "n = int(input(\"Enter the Value of n : \"))\n",
    "\n"
   ]
  },
  {
   "cell_type": "code",
   "execution_count": 42,
   "metadata": {},
   "outputs": [
    {
     "name": "stdout",
     "output_type": "stream",
     "text": [
      "Sum of n Positive integers till 5 is 15\n"
     ]
    }
   ],
   "source": [
    "sum_of_n = (n * (n + 1)) /2\n",
    "print('Sum of n Positive integers till', str(n), 'is', int(sum_of_n))"
   ]
  },
  {
   "cell_type": "markdown",
   "metadata": {},
   "source": [
    "# 14"
   ]
  },
  {
   "cell_type": "code",
   "execution_count": 43,
   "metadata": {},
   "outputs": [
    {
     "name": "stdout",
     "output_type": "stream",
     "text": [
      "Input a four digit numbers: 15\n"
     ]
    }
   ],
   "source": [
    "num = int(input(\"Input a four digit numbers: \"))\n"
   ]
  },
  {
   "cell_type": "code",
   "execution_count": 44,
   "metadata": {},
   "outputs": [
    {
     "name": "stdout",
     "output_type": "stream",
     "text": [
      "The sum of  15 is 6\n"
     ]
    }
   ],
   "source": [
    "x  = num //1000\n",
    "x1 = (num - x*1000)//100\n",
    "x2 = (num - x*1000 - x1*100)//10\n",
    "x3 = num - x*1000 - x1*100 - x2*10\n",
    "print(\"The sum of \",num,\"is\", x+x1+x2+x3)"
   ]
  },
  {
   "cell_type": "code",
   "execution_count": null,
   "metadata": {},
   "outputs": [],
   "source": []
  },
  {
   "cell_type": "code",
   "execution_count": null,
   "metadata": {},
   "outputs": [],
   "source": []
  },
  {
   "cell_type": "code",
   "execution_count": null,
   "metadata": {},
   "outputs": [],
   "source": []
  },
  {
   "cell_type": "code",
   "execution_count": null,
   "metadata": {},
   "outputs": [],
   "source": []
  }
 ],
 "metadata": {
  "kernelspec": {
   "display_name": "Python 3",
   "language": "python",
   "name": "python3"
  },
  "language_info": {
   "codemirror_mode": {
    "name": "ipython",
    "version": 3
   },
   "file_extension": ".py",
   "mimetype": "text/x-python",
   "name": "python",
   "nbconvert_exporter": "python",
   "pygments_lexer": "ipython3",
   "version": "3.7.3"
  }
 },
 "nbformat": 4,
 "nbformat_minor": 2
}
