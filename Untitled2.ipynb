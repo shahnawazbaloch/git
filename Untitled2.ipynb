{
 "cells": [
  {
   "cell_type": "code",
   "execution_count": 1,
   "metadata": {},
   "outputs": [
    {
     "name": "stdout",
     "output_type": "stream",
     "text": [
      "ali\n",
      "umer\n",
      "ehsan\n",
      "nasir\n"
     ]
    }
   ],
   "source": [
    "name1 = ['ali', \"umer\",'ehsan','nasir']\n",
    "for name2 in name1:\n",
    "    print(name2)\n",
    "    "
   ]
  },
  {
   "cell_type": "code",
   "execution_count": 3,
   "metadata": {},
   "outputs": [
    {
     "ename": "SyntaxError",
     "evalue": "invalid syntax (<ipython-input-3-9385eff68222>, line 1)",
     "output_type": "error",
     "traceback": [
      "\u001b[1;36m  File \u001b[1;32m\"<ipython-input-3-9385eff68222>\"\u001b[1;36m, line \u001b[1;32m1\u001b[0m\n\u001b[1;33m    for i in range(11)\u001b[0m\n\u001b[1;37m                      ^\u001b[0m\n\u001b[1;31mSyntaxError\u001b[0m\u001b[1;31m:\u001b[0m invalid syntax\n"
     ]
    }
   ],
   "source": [
    "for i in range(11)\n",
    "print (i ,'pakistan zindabad')\n"
   ]
  },
  {
   "cell_type": "code",
   "execution_count": 5,
   "metadata": {},
   "outputs": [
    {
     "ename": "SyntaxError",
     "evalue": "invalid syntax (<ipython-input-5-28eabe12f30f>, line 1)",
     "output_type": "error",
     "traceback": [
      "\u001b[1;36m  File \u001b[1;32m\"<ipython-input-5-28eabe12f30f>\"\u001b[1;36m, line \u001b[1;32m1\u001b[0m\n\u001b[1;33m    for i  range(1,11,1):\u001b[0m\n\u001b[1;37m               ^\u001b[0m\n\u001b[1;31mSyntaxError\u001b[0m\u001b[1;31m:\u001b[0m invalid syntax\n"
     ]
    }
   ],
   "source": [
    "for i  range(1,11,1):\n",
    "    print (i)\n",
    "    "
   ]
  },
  {
   "cell_type": "code",
   "execution_count": null,
   "metadata": {},
   "outputs": [],
   "source": []
  },
  {
   "cell_type": "code",
   "execution_count": 6,
   "metadata": {},
   "outputs": [
    {
     "name": "stdout",
     "output_type": "stream",
     "text": [
      "1\n",
      "3\n",
      "5\n",
      "7\n",
      "9\n"
     ]
    }
   ],
   "source": [
    "for b in range(1,11,2):\n",
    "   print(b) \n"
   ]
  },
  {
   "cell_type": "code",
   "execution_count": 12,
   "metadata": {},
   "outputs": [
    {
     "name": "stdout",
     "output_type": "stream",
     "text": [
      "10 \t 9 \t 8 \t 7 \t 6 \t 5 \t 4 \t 3 \t 2 \t 1 \t "
     ]
    }
   ],
   "source": [
    "for u in range (10,0,-1):\n",
    "    print(u,end=\" \\t \") # escape character\n",
    "    "
   ]
  },
  {
   "cell_type": "code",
   "execution_count": null,
   "metadata": {},
   "outputs": [],
   "source": []
  },
  {
   "cell_type": "code",
   "execution_count": null,
   "metadata": {},
   "outputs": [],
   "source": []
  },
  {
   "cell_type": "code",
   "execution_count": 14,
   "metadata": {},
   "outputs": [
    {
     "name": "stdout",
     "output_type": "stream",
     "text": [
      "ali*************asad*************hamza\n"
     ]
    }
   ],
   "source": [
    "print (\"ali\",\"asad\",\"hamza\",sep=\"*************\")"
   ]
  },
  {
   "cell_type": "code",
   "execution_count": 15,
   "metadata": {},
   "outputs": [
    {
     "name": "stdout",
     "output_type": "stream",
     "text": [
      "my name is name and my age is age\n"
     ]
    }
   ],
   "source": [
    "print (\"my name is name and my age is age\")"
   ]
  },
  {
   "cell_type": "code",
   "execution_count": 20,
   "metadata": {},
   "outputs": [
    {
     "ename": "SyntaxError",
     "evalue": "EOL while scanning string literal (<ipython-input-20-44c2000205f6>, line 3)",
     "output_type": "error",
     "traceback": [
      "\u001b[1;36m  File \u001b[1;32m\"<ipython-input-20-44c2000205f6>\"\u001b[1;36m, line \u001b[1;32m3\u001b[0m\n\u001b[1;33m    print (\"my name is \"+name+\" and my age is \"+age+\")\u001b[0m\n\u001b[1;37m                                                      ^\u001b[0m\n\u001b[1;31mSyntaxError\u001b[0m\u001b[1;31m:\u001b[0m EOL while scanning string literal\n"
     ]
    }
   ],
   "source": [
    "name = \"shahnawaz\"\n",
    "age = \"24\"\n",
    "print (\"my name is \"+name+\" and my age is \"+age+\")"
   ]
  },
  {
   "cell_type": "code",
   "execution_count": 21,
   "metadata": {},
   "outputs": [
    {
     "name": "stdout",
     "output_type": "stream",
     "text": [
      "my name is {}and my age is {}\n"
     ]
    }
   ],
   "source": [
    "print (\"my name is {}and my age is {}\")\n"
   ]
  },
  {
   "cell_type": "code",
   "execution_count": 22,
   "metadata": {},
   "outputs": [
    {
     "ename": "SyntaxError",
     "evalue": "EOL while scanning string literal (<ipython-input-22-b4a9571f9d7c>, line 3)",
     "output_type": "error",
     "traceback": [
      "\u001b[1;36m  File \u001b[1;32m\"<ipython-input-22-b4a9571f9d7c>\"\u001b[1;36m, line \u001b[1;32m3\u001b[0m\n\u001b[1;33m    print (\"my name is \"+ name+ \" and my age is +str+\"\")\u001b[0m\n\u001b[1;37m                                                        ^\u001b[0m\n\u001b[1;31mSyntaxError\u001b[0m\u001b[1;31m:\u001b[0m EOL while scanning string literal\n"
     ]
    }
   ],
   "source": [
    "name = \"nasir\"\n",
    "age = \"24\"\n",
    "print myname is \"+ name+ \" and my age is + str(age)\""
   ]
  },
  {
   "cell_type": "code",
   "execution_count": 23,
   "metadata": {},
   "outputs": [
    {
     "name": "stdout",
     "output_type": "stream",
     "text": [
      "my name is {name} and my age is {age}\n"
     ]
    }
   ],
   "source": [
    "print (\"my name is {name} and my age is {age}\")"
   ]
  },
  {
   "cell_type": "code",
   "execution_count": 25,
   "metadata": {},
   "outputs": [
    {
     "name": "stdout",
     "output_type": "stream",
     "text": [
      "my name is shahnawaz and my age is 24\n"
     ]
    }
   ],
   "source": [
    "name = \"shahnawaz\"\n",
    "age = \"24\"\n",
    "print (\"my name is \"+name+\" and my age is \"+age)"
   ]
  },
  {
   "cell_type": "code",
   "execution_count": 26,
   "metadata": {},
   "outputs": [
    {
     "name": "stdout",
     "output_type": "stream",
     "text": [
      "my name is shahnawaz and my age is 24\n"
     ]
    }
   ],
   "source": [
    "print (\"my name is {} and my age is {}\" .format(name,age))"
   ]
  },
  {
   "cell_type": "code",
   "execution_count": 28,
   "metadata": {},
   "outputs": [
    {
     "name": "stdout",
     "output_type": "stream",
     "text": [
      "my name is shahnawaz and my age is 24\n"
     ]
    }
   ],
   "source": [
    "print (f\"my name is {name} and my age is {age}\")\n"
   ]
  },
  {
   "cell_type": "code",
   "execution_count": 87,
   "metadata": {},
   "outputs": [
    {
     "ename": "SyntaxError",
     "evalue": "invalid syntax (<ipython-input-87-a03abc98914f>, line 1)",
     "output_type": "error",
     "traceback": [
      "\u001b[1;36m  File \u001b[1;32m\"<ipython-input-87-a03abc98914f>\"\u001b[1;36m, line \u001b[1;32m1\u001b[0m\n\u001b[1;33m    nums in range(1,11):\u001b[0m\n\u001b[1;37m                        ^\u001b[0m\n\u001b[1;31mSyntaxError\u001b[0m\u001b[1;31m:\u001b[0m invalid syntax\n"
     ]
    }
   ],
   "source": [
    "for tablr)\n",
    "          \n",
    "    "
   ]
  },
  {
   "cell_type": "code",
   "execution_count": 40,
   "metadata": {},
   "outputs": [
    {
     "name": "stdout",
     "output_type": "stream",
     "text": [
      "enter a table number2\n",
      "2* 1 = 2\n",
      "2* 4 = 8\n",
      "2* 7 = 14\n",
      "2* 10 = 20\n",
      "2* 13 = 26\n",
      "2* 16 = 32\n",
      "2* 19 = 38\n"
     ]
    }
   ],
   "source": [
    "table =  int(input(\"enter a table number\"))\n",
    "for nums in range(1,20,3):\n",
    "    print(f\"{table}* {nums} = {table*nums}\")    "
   ]
  },
  {
   "cell_type": "code",
   "execution_count": 42,
   "metadata": {},
   "outputs": [
    {
     "ename": "SyntaxError",
     "evalue": "EOL while scanning string literal (<ipython-input-42-91fd214fc7ec>, line 1)",
     "output_type": "error",
     "traceback": [
      "\u001b[1;36m  File \u001b[1;32m\"<ipython-input-42-91fd214fc7ec>\"\u001b[1;36m, line \u001b[1;32m1\u001b[0m\n\u001b[1;33m    party =['noman ,shahnawaz, rizwaz,]\u001b[0m\n\u001b[1;37m                                       ^\u001b[0m\n\u001b[1;31mSyntaxError\u001b[0m\u001b[1;31m:\u001b[0m EOL while scanning string literal\n"
     ]
    }
   ],
   "source": [
    "party =['noman ,shahnawaz, rizwaz,]"
   ]
  },
  {
   "cell_type": "code",
   "execution_count": 61,
   "metadata": {},
   "outputs": [
    {
     "name": "stdout",
     "output_type": "stream",
     "text": [
      "bhago abba agaye\n",
      "enjoy party\n"
     ]
    }
   ],
   "source": [
    "friends = ['c','b','a','d','e']\n",
    "for friend in friends:\n",
    "    if friend != \"c\":\n",
    "        print (\"enjoy party\")\n",
    "        break\n",
    "    else:\n",
    "        print('bhago abba agaye')\n",
    "        "
   ]
  },
  {
   "cell_type": "code",
   "execution_count": 68,
   "metadata": {},
   "outputs": [
    {
     "name": "stdout",
     "output_type": "stream",
     "text": [
      "0 a\n",
      "0 b\n",
      "0 c\n",
      "0 v\n",
      "1 a\n",
      "1 b\n",
      "1 c\n",
      "1 v\n",
      "2 a\n",
      "2 b\n",
      "2 c\n",
      "2 v\n",
      "3 a\n",
      "3 b\n",
      "3 c\n",
      "3 v\n",
      "4 a\n",
      "4 b\n",
      "4 c\n",
      "4 v\n",
      "5 a\n",
      "5 b\n",
      "5 c\n",
      "5 v\n",
      "6 a\n",
      "6 b\n",
      "6 c\n",
      "6 v\n",
      "7 a\n",
      "7 b\n",
      "7 c\n",
      "7 v\n",
      "8 a\n",
      "8 b\n",
      "8 c\n",
      "8 v\n",
      "9 a\n",
      "9 b\n",
      "9 c\n",
      "9 v\n"
     ]
    }
   ],
   "source": [
    "for a in range(10):\n",
    "    for b in [\"a\",'b','c','v' ]:\n",
    "      print (a,b)"
   ]
  },
  {
   "cell_type": "markdown",
   "metadata": {},
   "source": [
    "# for a in range(3):\n",
    "    for b in [\"a\",'b','c','v' ]:\n",
    "      print (a,b)"
   ]
  },
  {
   "cell_type": "code",
   "execution_count": 86,
   "metadata": {},
   "outputs": [
    {
     "name": "stdout",
     "output_type": "stream",
     "text": [
      "0 a\n",
      "0 b\n",
      "0 c\n",
      "1 a\n",
      "1 b\n",
      "1 c\n",
      "2 a\n",
      "2 b\n",
      "2 c\n",
      "3 a\n",
      "3 b\n",
      "3 c\n",
      "4 a\n",
      "4 b\n",
      "4 c\n",
      "5 a\n",
      "5 b\n",
      "5 c\n",
      "6 a\n",
      "6 b\n",
      "6 c\n",
      "7 a\n",
      "7 b\n",
      "7 c\n",
      "8 a\n",
      "8 b\n",
      "8 c\n",
      "9 a\n",
      "9 b\n",
      "9 c\n"
     ]
    }
   ],
   "source": [
    "\n",
    "for a in range(10):\n",
    "    counter = 0\n",
    "    for b in ['a','b','c','v' ]:\n",
    "        counter +=1\n",
    "        print(a,b)\n",
    "        if counter==3:\n",
    "            break\n"
   ]
  },
  {
   "cell_type": "code",
   "execution_count": 90,
   "metadata": {},
   "outputs": [
    {
     "ename": "NameError",
     "evalue": "name 'table_numbers' is not defined",
     "output_type": "error",
     "traceback": [
      "\u001b[1;31m---------------------------------------------------------------------------\u001b[0m",
      "\u001b[1;31mNameError\u001b[0m                                 Traceback (most recent call last)",
      "\u001b[1;32m<ipython-input-90-5566ab5821df>\u001b[0m in \u001b[0;36m<module>\u001b[1;34m\u001b[0m\n\u001b[0;32m      2\u001b[0m \u001b[1;33m\u001b[0m\u001b[0m\n\u001b[0;32m      3\u001b[0m     \u001b[1;32mfor\u001b[0m \u001b[0mcounter\u001b[0m \u001b[1;32min\u001b[0m \u001b[0mrange\u001b[0m\u001b[1;33m(\u001b[0m\u001b[1;36m1\u001b[0m\u001b[1;33m,\u001b[0m\u001b[1;36m11\u001b[0m\u001b[1;33m)\u001b[0m\u001b[1;33m:\u001b[0m\u001b[1;33m\u001b[0m\u001b[1;33m\u001b[0m\u001b[0m\n\u001b[1;32m----> 4\u001b[1;33m         \u001b[0mprint\u001b[0m\u001b[1;33m(\u001b[0m\u001b[1;34mf\"{table_numbers})*(counter)= {table_numbers*counter}\"\u001b[0m\u001b[1;33m)\u001b[0m\u001b[1;33m\u001b[0m\u001b[1;33m\u001b[0m\u001b[0m\n\u001b[0m",
      "\u001b[1;31mNameError\u001b[0m: name 'table_numbers' is not defined"
     ]
    }
   ],
   "source": [
    "for table_number in range(2,11):\n",
    "    \n",
    "    for counter in range(1,11):\n",
    "        print(f\"{table_numbers})*(counter)= {table_numbers*counter}\")"
   ]
  },
  {
   "cell_type": "code",
   "execution_count": null,
   "metadata": {},
   "outputs": [],
   "source": []
  }
 ],
 "metadata": {
  "kernelspec": {
   "display_name": "Python 3",
   "language": "python",
   "name": "python3"
  },
  "language_info": {
   "codemirror_mode": {
    "name": "ipython",
    "version": 3
   },
   "file_extension": ".py",
   "mimetype": "text/x-python",
   "name": "python",
   "nbconvert_exporter": "python",
   "pygments_lexer": "ipython3",
   "version": "3.7.3"
  }
 },
 "nbformat": 4,
 "nbformat_minor": 2
}
